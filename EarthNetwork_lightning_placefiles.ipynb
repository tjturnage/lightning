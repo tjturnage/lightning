{
  "nbformat": 4,
  "nbformat_minor": 0,
  "metadata": {
    "colab": {
      "provenance": [],
      "authorship_tag": "ABX9TyNzj6RUSFQWgF3g/cCvQEOs",
      "include_colab_link": true
    },
    "kernelspec": {
      "name": "python3",
      "display_name": "Python 3"
    },
    "language_info": {
      "name": "python"
    }
  },
  "cells": [
    {
      "cell_type": "markdown",
      "metadata": {
        "id": "view-in-github",
        "colab_type": "text"
      },
      "source": [
        "<a href=\"https://colab.research.google.com/github/tjturnage/lightning/blob/master/EarthNetwork_lightning_placefiles.ipynb\" target=\"_parent\"><img src=\"https://colab.research.google.com/assets/colab-badge.svg\" alt=\"Open In Colab\"/></a>"
      ]
    },
    {
      "cell_type": "markdown",
      "source": [
        "<font size=\"+4\" color=\"green\"><b>Create lightning placefiles from ENTLN data</b></font>  \n",
        "<font size=\"+1\" color=\"gray\"><i>Feb 15, 2025</i></font>\n",
        "<hr>\n",
        "\n",
        "<u><b>Input</u>:</b> <i>a CSV file of ENTLN archived data</i>  \n",
        "This can have any name but it can't include spaces and it must end in \".csv\"\n",
        "\n",
        "Instructions for obtaining archived lightning datasets are [here](https://get.earthnetworks.com/hubfs/Customer%20Success/Sferic%20Maps%20Lightning%20Archive.pdf). Make sure you select csv format for download!\n",
        "\n",
        "A fake sample from a csv dataset is below (your version may not have all the quotation marks, but the code should handle that regardless):\n",
        "\n",
        "```\n",
        "\"time_utc\",\"type\",\"latitude\",\"longitude\",\"peak_current\",\"ic_height\"\n",
        "\"2024-08-30T16:18:16.123456789\",\"1\",\"42.123456\",\"-88.123456\",\"2345.0\",\"6543.0\"\n",
        "```\n",
        "\n",
        "<u><b>Ouput</u>:</b> <i>two placefiles called \"cg_place.txt\" and \"ic_place.txt\" </i>  \n",
        "These represent CG strike locations and IC flashes, respectively. The files can be downloaded (click folder icon at left to reveal them) and loaded in GR2Analyst.\n",
        "<br>\n",
        "<br>\n",
        "<u><b>Suggestion</u>:</b>  \n",
        "<i>arrange the stacking order in the GR2Analyst Placefile Manager so the cg_place.txt is on top. That way, the CG strikes won't be concealed by the more numerous IC flashes.</i>   \n",
        "<br>\n",
        "\n",
        "---\n",
        "Questions or bugs? Please contact me at thomas.turnage@noaa.gov\n"
      ],
      "metadata": {
        "id": "Fg2BE_kP0dsg"
      }
    },
    {
      "cell_type": "code",
      "source": [
        "# @title Select the number of minutes keep lightning displayed.<br>Then click the arrow button to execute the script.\n",
        "minutes_to_keep_display = 15 # @param {\"type\":\"slider\",\"min\":5,\"max\":120,\"step\":5}\n",
        "mins = int(minutes_to_keep_display)\n",
        "\n",
        "from glob import glob\n",
        "import pandas as pd\n",
        "from datetime import datetime, timedelta\n",
        "\n",
        "\"\"\"\n",
        "Code snippet example:\n",
        "TimeRange: 2025-02-12T17:45:00Z 2025-02-12T17:50:00Z\n",
        "Object: 40.15885,-89.33891\n",
        "  Threshold: 400\n",
        "  Color: 255 255 255\n",
        "\n",
        " Icon: 0,0,250,1,1\n",
        " End:\n",
        "\"\"\"\n",
        "\n",
        "\"\"\"\n",
        "csv file data example:\n",
        "\"time_utc\",\"type\",\"latitude\",\"longitude\",\"peak_current\",\"ic_height\"\n",
        "\"2024-08-30T16:18:16.210708549\",\"1\",\"37.794473\",\"-90.346058\",\"2688.0\",\"6467.0\"\n",
        "\"\"\"\n",
        "\n",
        "header = \"\"\"\n",
        "RefreshSeconds: 30\n",
        "Color: 255 200 255\n",
        "IconFile: 1, 16, 16, 8, 8, \"https://raw.githubusercontent.com/tjturnage/cloud-radar-server/refs/heads/main/assets/iconfiles/ltg.png\"\n",
        "Font: 1, 11, 1, \"Arial\"\n",
        "Font: 2, 14, 1, \"Arial\"\n",
        "\"\"\"\n",
        "\n",
        "ltg_csv_file = glob('*.csv')[0]\n",
        "# Load the CSV file into a DataFrame\n",
        "df = pd.read_csv(ltg_csv_file, parse_dates=['time_utc'])\n",
        "df['formatted_time'] = df['time_utc'].dt.strftime('%Y-%m-%dT%H:%M:%SZ')\n",
        "df['time_with_timedelta'] = df['time_utc'] + pd.Timedelta(minutes=mins)\n",
        "df['formatted_time_with_delta'] = df['time_with_timedelta'].dt.strftime('%Y-%m-%dT%H:%M:%SZ')\n",
        "# Convert the remaining columns to appropriate data types\n",
        "df['type'] = df['type'].astype(int)\n",
        "df['latitude'] = df['latitude'].astype(float)\n",
        "df['longitude'] = df['longitude'].astype(float)\n",
        "df['peak_current'] = df['peak_current'].astype(float)\n",
        "df['ic_height'] = df['ic_height'].astype(float)\n",
        "\n",
        "icon_dict = {\n",
        "    'pos1': '1',\n",
        "    'neg1': '2',\n",
        "    'pos0': '3',\n",
        "    'neg0': '4'}\n",
        "\n",
        "df_ic = df[df['type'] == 1]\n",
        "df_cg = df[df['type'] == 0]\n",
        "\n",
        "def write_placefile(df, filename) -> None:\n",
        "    with open(filename, 'w', encoding='utf-8') as f:\n",
        "        if filename == 'cg_place.txt':\n",
        "            f.write(\"Title: CG Strikes\\n\")\n",
        "        else:\n",
        "            f.write(\"Title: IC Flashes\\n\")\n",
        "        f.write(header)\n",
        "        for index, row in df.iterrows():\n",
        "            valid_time = row['formatted_time']\n",
        "            valid_delta = row['formatted_time_with_delta']\n",
        "            ltg_type = row['type']  # 1 = intercloud, 0 = cloud to ground\n",
        "            current = row['peak_current']\n",
        "            if current < 0:\n",
        "                sign = 'neg'\n",
        "            else:\n",
        "                sign = 'pos'\n",
        "            f.write(f\"\\nTimeRange: {valid_time} {valid_delta}\\n\")\n",
        "            f.write(f\"Object: {row['latitude']},{row['longitude']}\\n\")\n",
        "            icon_key = f\"{sign}{ltg_type}\"\n",
        "            icon_num = icon_dict[icon_key]\n",
        "            f.write(f\"Icon: 0,0,0,1,{icon_num}\\n\")\n",
        "            f.write(f\"  Threshold: 400\\n\")\n",
        "            f.write(f\"End:\\n\")\n",
        "\n",
        "write_placefile(df_ic, 'ic_place.txt')\n",
        "write_placefile(df_cg, 'cg_place.txt')\n"
      ],
      "metadata": {
        "cellView": "form",
        "id": "BJ80Pfyc9RVq"
      },
      "execution_count": 5,
      "outputs": []
    }
  ]
}